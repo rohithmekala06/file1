{
 "cells": [
  {
   "cell_type": "markdown",
   "metadata": {},
   "source": [
    "# Markdown Basics\n",
    "## Markdown Basics\n",
    "### Markdown Basics\n",
    "#### Markdown Basics\n",
    "###### Markdown Basics\n",
    "\n",
    "* **point 1** (bold)\n",
    "* *point 2* (italic)\n",
    "* ***point 3*** (bold and italic)\n",
    "\n",
    "\n",
    "* Normal Text\n",
    "> 1. Point 1\n",
    "> 2. Point 2\n",
    "\n",
    "\n",
    "\n",
    "*  Google Site -- [1]: http://www.google.com\n",
    "*  MSN Site -- [2]: http://www.msn.com\n",
    "\n",
    "\n",
    "* Google -- [Google][1]\n",
    "[1]: http://www.google.com"
   ]
  },
  {
   "cell_type": "markdown",
   "metadata": {},
   "source": [
    "### Python Basics\n",
    "* Python version 3.7\n",
    "\n",
    "-Functional Programming\n",
    "\n",
    "-Object oriented Programming\n",
    "\n",
    "-Scripting Programming"
   ]
  },
  {
   "cell_type": "code",
   "execution_count": 4,
   "metadata": {},
   "outputs": [
    {
     "name": "stdout",
     "output_type": "stream",
     "text": [
      "Hello, Gitam\n"
     ]
    }
   ],
   "source": [
    "print(\"Hello, Gitam\")"
   ]
  },
  {
   "cell_type": "code",
   "execution_count": 5,
   "metadata": {},
   "outputs": [
    {
     "name": "stdout",
     "output_type": "stream",
     "text": [
      "Hello, Gitam\n",
      "Hyderabad\n"
     ]
    }
   ],
   "source": [
    "print(\"Hello, Gitam\")\n",
    "print(\"Hyderabad\")"
   ]
  },
  {
   "cell_type": "code",
   "execution_count": 15,
   "metadata": {},
   "outputs": [
    {
     "name": "stdout",
     "output_type": "stream",
     "text": [
      "Hello, Gitam ||| Hello,Gitam ||| Python Programming\n"
     ]
    }
   ],
   "source": [
    "print(\"Hello, Gitam\", \"|||\", end=\" \")\n",
    "print(\"Hello,Gitam\", end=\" ||| \")\n",
    "print(\"Python Programming\")"
   ]
  },
  {
   "cell_type": "code",
   "execution_count": 23,
   "metadata": {},
   "outputs": [
    {
     "name": "stdout",
     "output_type": "stream",
     "text": [
      "100\n",
      "20 20 20\n",
      "111 222 333\n"
     ]
    }
   ],
   "source": [
    "n1=100 #Single assignment\n",
    "a=b=c=20 #Multi Varible assignment of same value\n",
    "a1,b1,c1= 111,222,333 #Multi Varible assignment of different value\n",
    " \n",
    "print(n1)\n",
    "\n",
    "print(a,b,c)\n",
    "\n",
    "print(a1,b1,c1)"
   ]
  },
  {
   "cell_type": "markdown",
   "metadata": {},
   "source": [
    "Data Types And Conversions\n",
    "* int\n",
    "* string --> str()\n",
    "* float  --> float()"
   ]
  },
  {
   "cell_type": "code",
   "execution_count": 21,
   "metadata": {},
   "outputs": [
    {
     "name": "stdout",
     "output_type": "stream",
     "text": [
      "100 Python P 10.1\n",
      "<class 'int'> <class 'str'> <class 'str'> <class 'float'>\n"
     ]
    }
   ],
   "source": [
    "a=100\n",
    "s1= 'Python'\n",
    "s2= 'P'\n",
    "f1= 10.1\n",
    "print(a,s1,s2,f1)\n",
    "print(type(a),type(s1),type(s2),type(f1))"
   ]
  },
  {
   "cell_type": "code",
   "execution_count": 27,
   "metadata": {},
   "outputs": [
    {
     "name": "stdout",
     "output_type": "stream",
     "text": [
      "<class 'int'>\n",
      "<class 'str'>\n",
      "<class 'float'>\n"
     ]
    }
   ],
   "source": [
    "i=100\n",
    "print(type(i))\n",
    "s1=str(i) #converts the input into string type\n",
    "print(type(s1))\n",
    "f1=float(i) #converts the input into float type\n",
    "print(type(f1))"
   ]
  },
  {
   "cell_type": "code",
   "execution_count": 33,
   "metadata": {},
   "outputs": [
    {
     "name": "stdout",
     "output_type": "stream",
     "text": [
      "<class 'str'>\n",
      "<class 'int'>\n",
      "<class 'int'>\n"
     ]
    }
   ],
   "source": [
    "s1='100'\n",
    "print(type(s1))\n",
    "a=int(s1)\n",
    "print(type(a))\n",
    "f1=1.5\n",
    "a1=int(f1)\n",
    "print(type(a1))"
   ]
  },
  {
   "cell_type": "code",
   "execution_count": 35,
   "metadata": {},
   "outputs": [
    {
     "name": "stdout",
     "output_type": "stream",
     "text": [
      "4\n"
     ]
    }
   ],
   "source": [
    "# A number is given 1234-\n",
    "# Digit Count\n",
    "a= 1234\n",
    "print(len(str(a)))"
   ]
  },
  {
   "cell_type": "markdown",
   "metadata": {},
   "source": [
    "# Reading the value- Input Function\n",
    "\n",
    "* input(\"Message\") --string"
   ]
  },
  {
   "cell_type": "code",
   "execution_count": 1,
   "metadata": {},
   "outputs": [
    {
     "name": "stdout",
     "output_type": "stream",
     "text": [
      "Enter your nameRohith\n",
      "Rohith\n",
      "<class 'str'>\n"
     ]
    }
   ],
   "source": [
    "s1=input(\"Enter your name\")\n",
    "print(s1)\n",
    "print(type(s1))"
   ]
  },
  {
   "cell_type": "code",
   "execution_count": 3,
   "metadata": {},
   "outputs": [
    {
     "name": "stdout",
     "output_type": "stream",
     "text": [
      "Enter a number\n",
      "8798\n",
      "8798 <class 'int'>\n"
     ]
    }
   ],
   "source": [
    "n1=int(input(\"Enter a number\\n\"))\n",
    "print(n1,type(n1))"
   ]
  },
  {
   "cell_type": "markdown",
   "metadata": {},
   "source": [
    "## Operators\n",
    "* Operator is a symbol is used to perform a specific kind of operation\n",
    "\n",
    "### Arithematic Operators\n",
    "* +\n",
    "* -\n",
    "* *\n",
    "* /\n",
    "* %  --> remainder\n",
    "* // --> Floor Division(//) Divides and returns the integer value of the quotient. It dumps the digits after the decimal.\n",
    "* ** -->  Exponentiation(**) Raises the first number to the power of the second.\n",
    "\n"
   ]
  },
  {
   "cell_type": "code",
   "execution_count": 5,
   "metadata": {},
   "outputs": [
    {
     "name": "stdout",
     "output_type": "stream",
     "text": [
      "1244\n",
      "1224\n",
      "12340\n",
      "123.4\n",
      "4\n",
      "8187505353567209228244052427776\n",
      "123\n"
     ]
    }
   ],
   "source": [
    "n1=1234\n",
    "print(n1+10)\n",
    "print(n1-10)\n",
    "print(n1*10)\n",
    "print(n1/10)\n",
    "print(n1%10)\n",
    "print(n1**10)\n",
    "print(n1//10)"
   ]
  },
  {
   "cell_type": "markdown",
   "metadata": {},
   "source": [
    "# Precedence of arith operators\n",
    "* Paranthesis\n",
    "* Power\n",
    "* Multiplication\n",
    "* Addition \n",
    "\n",
    "## Left to Right"
   ]
  },
  {
   "cell_type": "code",
   "execution_count": 7,
   "metadata": {},
   "outputs": [
    {
     "name": "stdout",
     "output_type": "stream",
     "text": [
      "8.0\n"
     ]
    }
   ],
   "source": [
    "x= 1+2**3/4+5\n",
    "print(x)"
   ]
  },
  {
   "cell_type": "code",
   "execution_count": 8,
   "metadata": {},
   "outputs": [
    {
     "name": "stdout",
     "output_type": "stream",
     "text": [
      "11.0\n"
     ]
    }
   ],
   "source": [
    "x=1+2**3/4*5\n",
    "print(x)"
   ]
  },
  {
   "cell_type": "markdown",
   "metadata": {},
   "source": [
    "# Relational Operators\n",
    "-> == (Equal to)\n",
    "\n",
    "-> != (Not Equal to)\n",
    "\n",
    "-> Greater (>)\n",
    "\n",
    "-> Smaller (<)\n",
    "\n",
    "-> Greater than or equal to (>=)\n",
    "\n",
    "-> Lesser than or equal to (<=)\n"
   ]
  },
  {
   "cell_type": "markdown",
   "metadata": {},
   "source": [
    "# Logical Operators\n",
    "\n",
    "-> Used to combine more than single condition\n",
    "* and (Both the condition are correct)\n",
    "* or\n",
    "* not"
   ]
  },
  {
   "cell_type": "code",
   "execution_count": 10,
   "metadata": {},
   "outputs": [
    {
     "name": "stdout",
     "output_type": "stream",
     "text": [
      "True\n",
      "False\n"
     ]
    }
   ],
   "source": [
    "i=100\n",
    "a1=(i>15)and(i<800)\n",
    "a2=(i>15)and(i>800)\n",
    "print(a1)\n",
    "print(a2)"
   ]
  },
  {
   "cell_type": "markdown",
   "metadata": {},
   "source": [
    "### Control Flow Statements\n",
    "\n",
    "* Conditional statements\n",
    "\n",
    "* Looping Statements\n",
    "\n",
    "### Syntax\n",
    "\n",
    "if Boolean_Condition: \n",
    "\n",
    "Statements\n",
    "\n",
    "else\n",
    "\n",
    "statements"
   ]
  },
  {
   "cell_type": "code",
   "execution_count": 14,
   "metadata": {},
   "outputs": [
    {
     "name": "stdout",
     "output_type": "stream",
     "text": [
      "Enter the number\n",
      "76786809\n",
      "Odd\n"
     ]
    }
   ],
   "source": [
    "# To check the given number is even or odd\n",
    "n=int(input(\"Enter the number\\n\"))\n",
    "if n%2==0:\n",
    "    print(\"Even\")\n",
    "else:\n",
    "    print(\"Odd\")\n"
   ]
  },
  {
   "cell_type": "code",
   "execution_count": 16,
   "metadata": {},
   "outputs": [
    {
     "name": "stdout",
     "output_type": "stream",
     "text": [
      "Enter the number15\n",
      "Yes\n"
     ]
    }
   ],
   "source": [
    "# To check the number is perfectly multiple of 3 and 5\n",
    "n=int(input(\"Enter the number\"))\n",
    "if n%3==0 and n%5==0:\n",
    "    print(\"Yes\")\n",
    "else:\n",
    "    print(\"No\")"
   ]
  },
  {
   "cell_type": "code",
   "execution_count": 21,
   "metadata": {},
   "outputs": [
    {
     "name": "stdout",
     "output_type": "stream",
     "text": [
      "Enter the number0\n",
      "Zero\n"
     ]
    }
   ],
   "source": [
    "# Check if the given number is positive, nugative or zero\n",
    "n=int(input(\"Enter the number\"))\n",
    "if n==0:\n",
    "    print(\"Zero\")\n",
    "elif n>0:\n",
    "    print(\"Positive\")\n",
    "else:\n",
    "    print(\"Negative\")\n",
    "    "
   ]
  },
  {
   "cell_type": "code",
   "execution_count": null,
   "metadata": {},
   "outputs": [],
   "source": [
    "\n"
   ]
  }
 ],
 "metadata": {
  "kernelspec": {
   "display_name": "Python 3",
   "language": "python",
   "name": "python3"
  },
  "language_info": {
   "codemirror_mode": {
    "name": "ipython",
    "version": 3
   },
   "file_extension": ".py",
   "mimetype": "text/x-python",
   "name": "python",
   "nbconvert_exporter": "python",
   "pygments_lexer": "ipython3",
   "version": "3.7.3"
  }
 },
 "nbformat": 4,
 "nbformat_minor": 2
}
